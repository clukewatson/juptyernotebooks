{
 "cells": [
  {
   "cell_type": "markdown",
   "metadata": {},
   "source": [
    "This script runs EC821B HW03 Pt2: simulation of a multivariate normal probability.\n",
    "\n",
    "Consider some binary random variable $D_i$, where \n",
    "$\\Pr(D_i = 1\\vert X_i) = G(X_i;\\ \\theta_0)$, some parametric density.\n",
    "\n",
    "Suppose we believe there is a latent variable, $y_i^{*} = X_i^{\\prime}\\beta_0 + \\epsilon_i$, such that $D_i = 1 \\iff y_i^{*} \\ge 0 \\iff X_i^{\\prime}\\beta_0 \\ge -\\epsilon_i$.  \n",
    "If we further assume $\\epsilon_i|_{X_i} \\sim \\mathsf{N}(0,\\sigma^2)$, then $G(X_i;\\ \\theta_0) = \\Phi\\left(\\frac{X_i^{\\prime}\\beta_0}{\\sigma}\\right) = \\Phi(X_i^{\\prime}\\gamma_0)$.\n",
    "\n"
   ]
  },
  {
   "cell_type": "code",
   "execution_count": 1,
   "metadata": {
    "collapsed": false
   },
   "outputs": [],
   "source": [
    "# Set Working Directory\n",
    "cd(\"/Volumes/HDD_lxw/Users/LukeXWatson/Dropbox/02_CLASSES/2017_02_Spring/821B_Cross Section/HW/HW3\")\n",
    "# Get Standard Packages Running\n",
    "using Distributions, Plots, DataFrames, StatsFuns, Optim"
   ]
  },
  {
   "cell_type": "code",
   "execution_count": 2,
   "metadata": {
    "collapsed": false
   },
   "outputs": [
    {
     "data": {
      "text/plain": [
       "5×5 Array{Float64,2}:\n",
       " 1.0  0.575653  1.0  1.0  2.48053 \n",
       " 1.0  1.48025   1.0  1.0  0.563757\n",
       " 1.0  0.904598  1.0  1.0  1.24026 \n",
       " 1.0  0.986834  1.0  1.0  0.732883\n",
       " 1.0  1.48025   1.0  1.0  0.789259"
      ]
     },
     "execution_count": 2,
     "metadata": {},
     "output_type": "execute_result"
    }
   ],
   "source": [
    "############ DATA IMPORT\n",
    "# Imported Rows Come as DataFrames\n",
    "age = readtable(\"CPS87/age.dat\", separator = ' ', header = false);\n",
    "edu = readtable(\"CPS87/educ.dat\", separator = ' ', header = false);\n",
    "race = readtable(\"CPS87/race.dat\", separator = ' ', header = false);\n",
    "msa = readtable(\"CPS87/smsa.dat\", separator = ' ', header = false);\n",
    "wks = readtable(\"CPS87/wkwrkly.dat\", separator = ' ', header = false);\n",
    "############ DATA FORMAT\n",
    "# Put into a single df\n",
    "data = [age edu race msa wks];\n",
    "# Change column names\n",
    "names!(data, [:age, :edu, :race, :msa, :wks]);\n",
    "# Create Constant\n",
    "data[:cons] = 1;\n",
    "# Create Full-time variable\n",
    "data[:full] = 0;\n",
    "data[(data[:wks].>=40),:full] = 1;\n",
    "# Create Experience Variable\n",
    "data[:expr] = data[:age] - data[:edu] - 6;\n",
    "# Create White dummy\n",
    "data[:wht] = 0;\n",
    "data[(data[:race].==1),:wht] = 1;\n",
    "# Correct MSA dummy (change 2 to 0)\n",
    "data[(data[:msa].==2),:msa] = 0;\n",
    "##### Divide edu and expr by mean\n",
    "data[:eduM] = data[:edu] ./ mean(data[:edu])\n",
    "data[:exprM] = data[:expr] ./ mean(data[:expr])\n",
    "#writetable(\"data87.csv\", data)\n",
    "#data[1:5,:]\n",
    "# Separate into data for the estimation:\n",
    "X = data[:,[:cons, :eduM, :wht, :msa, :exprM]];\n",
    "F = data[:,[:full]];\n",
    "N = nrow(X);\n",
    "k = ncol(X);\n",
    "# Turn into float values for faster calculations \n",
    "# NOTE: Mixing types (eg real numbers and integers) increases computational time by factor of 10 (or more!)\n",
    "X = Array{Float64}(Any(X));\n",
    "F = Array{Float64}(Any(F));\n",
    "############ DATA PREVIEW\n",
    "X[1:5,:]"
   ]
  },
  {
   "cell_type": "code",
   "execution_count": 3,
   "metadata": {
    "collapsed": false
   },
   "outputs": [],
   "source": [
    "############ Initial Values\n",
    "# OLS Initial Values\n",
    "gmOLS = (inv(X'*X)*(X'*F))[1:5];\n",
    "# Included are the STATA results for comparison\n",
    "gmSTATA = [-1.88, 1.78, 0.27, 0.05, 0.29];\n",
    "# Set Options for Optimizer\n",
    "opts = Optim.Options(f_tol = 1e-20, g_tol = 1e-8, iterations = 1000);"
   ]
  },
  {
   "cell_type": "markdown",
   "metadata": {
    "collapsed": false
   },
   "source": [
    "Under the assumptions given, we have a standard Probit model.  \n",
    "Gathering items, we have: \n",
    "\n",
    "$\\hat{\\gamma}_{MLE} = \\arg\\min\\{Q_n(\\gamma)\\}$\n",
    "\n",
    "$Q_n(\\gamma) = \\frac{-1}{N}\\sum_{i\\in N} d_i\\ln[\\Phi(X_i^{\\prime}\\gamma)] + (1 - d_i)\\ln[1 - \\Phi(X_i^{\\prime}\\gamma)] = \\frac{-1}{N}\\sum_{i\\in N} l(X_i,\\gamma)$ "
   ]
  },
  {
   "cell_type": "code",
   "execution_count": 4,
   "metadata": {
    "collapsed": false
   },
   "outputs": [
    {
     "data": {
      "text/plain": [
       "f_lnLike (generic function with 1 method)"
      ]
     },
     "execution_count": 4,
     "metadata": {},
     "output_type": "execute_result"
    }
   ],
   "source": [
    "############ Construct Likelihood Function\n",
    "# Set Distribution: Standard Normal\n",
    "function f_lnLike(gm::Vector)\n",
    "    ## This creates a lnL function of given parameters for MLE\n",
    "    # (Re)Set Random Seed to Prevent \"Chattering\" - use same simulations each iteration\n",
    "    srand(537099)\n",
    "    # Preallocate Vectors\n",
    "    t1 = Array(Float64,1,k)\n",
    "    t2 = Array(Float64,N,1)\n",
    "    t3 = Array(Float64,N,1)\n",
    "    t4 = Array(Float64,N,1)\n",
    "    t5 = Array(Float64,1,1)\n",
    "    # Calculations\n",
    "    t1 = [gm[1] gm[2] gm[3] gm[4] gm[5]]\n",
    "    t2 = X*t1'\n",
    "    # CDF of Standard Normal dist. eval. at each obs.\n",
    "    t3 = cdf(Normal(), t2)\n",
    "    # Column vector of lnL_i\n",
    "    t4 = F.*log(t3) + (1 - F).*log(1-t3)\n",
    "    # Sum of lnL_i = lnL; return the negation for minimization\n",
    "    t5 = sum(t4)\n",
    "    return (-1)*t5\n",
    "end"
   ]
  },
  {
   "cell_type": "code",
   "execution_count": 5,
   "metadata": {
    "collapsed": false
   },
   "outputs": [
    {
     "name": "stdout",
     "output_type": "stream",
     "text": [
      "STATA Check: 28275.31692479358 and OLS Trial 30785.888430774758"
     ]
    }
   ],
   "source": [
    "# See if function works and eval. against STATA\n",
    "print(\"STATA Check: $(f_lnLike(gmSTATA)) and OLS Trial $(f_lnLike(gmOLS))\")"
   ]
  },
  {
   "cell_type": "code",
   "execution_count": 6,
   "metadata": {
    "collapsed": false
   },
   "outputs": [
    {
     "data": {
      "text/plain": [
       "Results of Optimization Algorithm\n",
       " * Algorithm: Nelder-Mead\n",
       " * Starting Point: [-0.09421108407456535,0.568001095931335, ...]\n",
       " * Minimizer: [-1.8824966206978404,1.7791887589036641, ...]\n",
       " * Minimum: 2.827517e+04\n",
       " * Iterations: 292\n",
       " * Convergence: true\n",
       "   *  √(Σ(yᵢ-ȳ)²)/n < 1.0e-08: true\n",
       "   * Reached Maximum Number of Iterations: false\n",
       " * Objective Function Calls: 372"
      ]
     },
     "execution_count": 6,
     "metadata": {},
     "output_type": "execute_result"
    }
   ],
   "source": [
    "# This used the NM optimization routine to search for the gamma that minimizes(-lnLk)\n",
    "MLE = optimize(f_lnLike, gmOLS, opts)"
   ]
  },
  {
   "cell_type": "code",
   "execution_count": 7,
   "metadata": {
    "collapsed": false
   },
   "outputs": [
    {
     "data": {
      "text/html": [
       "<table class=\"data-frame\"><thead><tr><th></th><th>vars</th><th>Julia</th><th>STATA</th><th>OLS</th></tr></thead><tbody><tr><th>1</th><td>cons</td><td>-1.882</td><td>-1.88</td><td>-0.094</td></tr><tr><th>2</th><td>edu</td><td>1.779</td><td>1.78</td><td>0.568</td></tr><tr><th>3</th><td>wht</td><td>0.273</td><td>0.27</td><td>0.092</td></tr><tr><th>4</th><td>msa</td><td>0.053</td><td>0.05</td><td>0.016</td></tr><tr><th>5</th><td>expr</td><td>0.291</td><td>0.29</td><td>0.099</td></tr></tbody></table>"
      ],
      "text/plain": [
       "5×4 DataFrames.DataFrame\n",
       "│ Row │ vars   │ Julia  │ STATA │ OLS    │\n",
       "├─────┼────────┼────────┼───────┼────────┤\n",
       "│ 1   │ \"cons\" │ -1.882 │ -1.88 │ -0.094 │\n",
       "│ 2   │ \"edu\"  │ 1.779  │ 1.78  │ 0.568  │\n",
       "│ 3   │ \"wht\"  │ 0.273  │ 0.27  │ 0.092  │\n",
       "│ 4   │ \"msa\"  │ 0.053  │ 0.05  │ 0.016  │\n",
       "│ 5   │ \"expr\" │ 0.291  │ 0.29  │ 0.099  │"
      ]
     },
     "execution_count": 7,
     "metadata": {},
     "output_type": "execute_result"
    }
   ],
   "source": [
    "DataFrame(vars = [\"cons\", \"edu\", \"wht\", \"msa\", \"expr\"],\n",
    "Julia = round(Optim.minimizer(MLE),3), \n",
    "STATA = round(gmSTATA,3),\n",
    "OLS = round(gmOLS,3))"
   ]
  },
  {
   "cell_type": "markdown",
   "metadata": {
    "collapsed": false
   },
   "source": [
    "Now for the Asymptotic Variance Estimator:  \n",
    "\n",
    "$\\mathsf{AVar}(\\gamma_0) = \\mathsf{E}[\\frac{\\partial}{\\partial\\gamma\\partial\\gamma^{\\prime}} l(X_i,\\gamma_0)]^{-1}\\cdot \n",
    "\\mathsf{E}[\\frac{\\partial}{\\partial\\gamma}\\mathcal{l}(X_i,\\gamma)\\frac{\\partial}{\\partial\\gamma^{\\prime}} l(X_i,\\gamma_0)]\\cdot\n",
    "\\mathsf{E}[\\frac{\\partial}{\\partial\\gamma\\partial\\gamma^{\\prime}} l(X_i,\\gamma_0)]^{-1}$\n",
    "\n",
    "$\\widehat{\\mathsf{AVar}}\\left(\\sqrt{N}(\\hat{\\gamma} - \\gamma_o)\\right) = \n",
    "[\\frac{1}{N}\\sum_{i\\in N}\\frac{\\partial}{\\partial\\gamma\\partial\\gamma^{\\prime}} l(X_i,\\hat{\\gamma})]^{-1}\\cdot \n",
    "[\\frac{1}{N}\\sum_{i\\in N}\\frac{\\partial}{\\partial\\gamma}\\mathcal{l}(X_i,\\gamma)\\frac{\\partial}{\\partial\\gamma^{\\prime}} l(X_i,\\hat{\\gamma})]\\cdot\n",
    "[\\frac{1}{N}\\sum_{i\\in N}\\frac{\\partial}{\\partial\\gamma\\partial\\gamma^{\\prime}} l(X_i,\\hat{\\gamma})]^{-1}$\n",
    "\n",
    "$\\frac{\\partial}{\\partial\\gamma} l(X_i,\\hat{\\gamma}) = \\frac{D_i - \\Phi(X_i^{\\prime}\\gamma)}{\\Phi(X_i^{\\prime}\\gamma)\\cdot[1-\\Phi(X_i^{\\prime}\\gamma)]}\\phi(X_i^{\\prime}\\gamma)\\cdot X_i^{\\prime}$\n",
    "\n",
    "$\\frac{\\partial}{\\partial\\gamma\\partial\\gamma^{\\prime}} l(X_i,\\hat{\\gamma}) = -\\frac{\\Phi(X_i^{\\prime}\\gamma)\\cdot[1-\\Phi(X_i^{\\prime}\\gamma)]}{\\left[\\Phi(X_i^{\\prime}\\gamma)\\cdot[1-\\Phi(X_i^{\\prime}\\gamma)]\\right]^2}\\cdot \\phi(X_i^{\\prime}\\gamma)^2\\cdot X_i^{\\prime}X_i = -\\frac{\\phi(X_i^{\\prime}\\gamma)^2}{\\left[\\Phi(X_i^{\\prime}\\gamma)\\cdot[1-\\Phi(X_i^{\\prime}\\gamma)]\\right]}\\cdot X_i^{\\prime}X_i\n",
    "-\\frac{\\partial}{\\partial\\gamma} l(X_i,\\hat{\\gamma})\\cdot \\frac{\\partial}{\\partial\\gamma^{\\prime}} l(X_i,\\hat{\\gamma})$\n",
    "\n",
    "However, since allowing for heteroskedasticity implies the model is incorrect, I will simply calculate the asymptotic variance assuming correct specification and thus that the Fisher Information Equality holds.\n",
    "\n",
    "Note the following: \n",
    "\n",
    "$\\widehat{\\mathsf{s.e}.}(\\hat{\\gamma}) = \n",
    "\\mathsf{diag}\\left(\\left[\\frac{1}{N}\\widehat{\\mathsf{AVar}}\\left(\\sqrt{N}(\\hat{\\gamma} - \\gamma_o)\\right)\\right]^{\\frac{1}{2}}\\right)$"
   ]
  },
  {
   "cell_type": "code",
   "execution_count": 8,
   "metadata": {
    "collapsed": false
   },
   "outputs": [
    {
     "data": {
      "text/html": [
       "<table class=\"data-frame\"><thead><tr><th></th><th>vars</th><th>Julia</th><th>J_SEs</th><th>STATA</th><th>S_SEs</th></tr></thead><tbody><tr><th>1</th><td>cons</td><td>-1.882</td><td>0.031</td><td>-1.88</td><td>0.031</td></tr><tr><th>2</th><td>edu</td><td>1.779</td><td>0.024</td><td>1.78</td><td>0.024</td></tr><tr><th>3</th><td>wht</td><td>0.273</td><td>0.018</td><td>0.27</td><td>0.018</td></tr><tr><th>4</th><td>msa</td><td>0.053</td><td>0.012</td><td>0.05</td><td>0.012</td></tr><tr><th>5</th><td>expr</td><td>0.291</td><td>0.008</td><td>0.29</td><td>0.008</td></tr></tbody></table>"
      ],
      "text/plain": [
       "5×5 DataFrames.DataFrame\n",
       "│ Row │ vars   │ Julia  │ J_SEs │ STATA │ S_SEs │\n",
       "├─────┼────────┼────────┼───────┼───────┼───────┤\n",
       "│ 1   │ \"cons\" │ -1.882 │ 0.031 │ -1.88 │ 0.031 │\n",
       "│ 2   │ \"edu\"  │ 1.779  │ 0.024 │ 1.78  │ 0.024 │\n",
       "│ 3   │ \"wht\"  │ 0.273  │ 0.018 │ 0.27  │ 0.018 │\n",
       "│ 4   │ \"msa\"  │ 0.053  │ 0.012 │ 0.05  │ 0.012 │\n",
       "│ 5   │ \"expr\" │ 0.291  │ 0.008 │ 0.29  │ 0.008 │"
      ]
     },
     "execution_count": 8,
     "metadata": {},
     "output_type": "execute_result"
    }
   ],
   "source": [
    "Xg = X*Optim.minimizer(MLE)\n",
    "Phi = cdf(Normal(), Xg)\n",
    "phi = pdf(Normal(), Xg)\n",
    "val = zeros(k,k)\n",
    "for i in 1:N\n",
    "    val += ((((phi[i])^2) / (Phi[i]*(1-Phi[i])))*(X[i,:]*X[i,:]'))\n",
    "end\n",
    "avar = inv(val/N)\n",
    "standerr = sqrt(diag(avar/N))\n",
    "DataFrame(vars = [\"cons\", \"edu\", \"wht\", \"msa\", \"expr\"],\n",
    "Julia = round(Optim.minimizer(MLE),3), \n",
    "J_SEs = round(standerr,3),\n",
    "STATA = round(gmSTATA,3),\n",
    "S_SEs = [0.031, 0.024, 0.018, 0.012, 0.008])"
   ]
  },
  {
   "cell_type": "markdown",
   "metadata": {
    "collapsed": false
   },
   "source": [
    "Simulated Maximum Likelihood\n",
    "============================\n",
    "\n",
    "Now, we want to recalculate the above model, assuming that we cannot compute $\\Phi()$. We will simulate this using three approaches. I will use the Crude Frequency simulator, an importance sampling simulator, and an antivariate crude frequency simulator.\n",
    "\n",
    "For this, we must simulate the value of $\\Phi(X_i^{\\prime}\\gamma)$ for each observation, thus $(N\\cdot R)$ total simulations. \n",
    "We use the following simulators:\n",
    "1. Crude Frequency\n",
    "2. Importance Sampling\n",
    "3. Antithetic Variate Crude Frequency"
   ]
  },
  {
   "cell_type": "markdown",
   "metadata": {
    "collapsed": false
   },
   "source": [
    "Crude Frequency\n",
    "==============="
   ]
  },
  {
   "cell_type": "code",
   "execution_count": 9,
   "metadata": {
    "collapsed": false
   },
   "outputs": [
    {
     "data": {
      "text/plain": [
       "CrFr (generic function with 1 method)"
      ]
     },
     "execution_count": 9,
     "metadata": {},
     "output_type": "execute_result"
    }
   ],
   "source": [
    "function CrFr(Xg::Array{Float64,1})\n",
    "    # This function is a non-general Crude Freq simulator for probit estimation.\n",
    "    # Want Pr(X_i*g > - e_i) by sample avg of 1[X_i*g > - e_ir] for r = 1:R\n",
    "    # Arguments: R simulations, Xg candidate X*gamma, gamma is coef vector\n",
    "    nu = Array(Float64,N,R) \n",
    "    Icf = Array(Float64,N,1)\n",
    "    # Get the Xg values greater than simulated errors, and convert logical to numeric\n",
    "    nu = convert(Array{Float64,2},(Xg.>= (-1)*u1))\n",
    "    # Average of the simulations for each observation\n",
    "    Icf = vec((1/R)*sum(nu,2))\n",
    "end"
   ]
  },
  {
   "cell_type": "code",
   "execution_count": 10,
   "metadata": {
    "collapsed": false
   },
   "outputs": [
    {
     "data": {
      "text/plain": [
       "f_SimlnLike1 (generic function with 1 method)"
      ]
     },
     "execution_count": 10,
     "metadata": {},
     "output_type": "execute_result"
    }
   ],
   "source": [
    "############ Construct Likelihood Function\n",
    "function f_SimlnLike1(gm::Vector)\n",
    "    ## This creates a lnL function of given parameters for Sim.MLE\n",
    "    # Preallocate Vectors\n",
    "    t1 = Array(Float64,1,k)\n",
    "    t2 = Array(Float64,N,1)\n",
    "    t3 = Array(Float64,N,1)\n",
    "    t4 = Array(Float64,N,1)\n",
    "    t5 = Array(Float64,1,1)\n",
    "    # Calculations\n",
    "    t1 = [gm[1] gm[2] gm[3] gm[4] gm[5]]\n",
    "    t2 = vec(X*t1')\n",
    "    # CrFr Simulation of CDF of Standard Normal dist. eval. at each obs.\n",
    "    t3 = CrFr(t2)\n",
    "    # Column vector of lnL_i\n",
    "    t4 = F.*log(t3) + (1 - F).*log(1-t3)\n",
    "    # Sum of lnL_i = lnL; return the negation for minimization\n",
    "    t5 = sum(t4)\n",
    "    return (-1)*t5\n",
    "end"
   ]
  },
  {
   "cell_type": "code",
   "execution_count": 11,
   "metadata": {
    "collapsed": false
   },
   "outputs": [
    {
     "name": "stdout",
     "output_type": "stream",
     "text": [
      " 85"
     ]
    }
   ],
   "source": [
    "# Crude Freq at 100 Sim --- Takes about 3min\n",
    "R = 100;\n",
    "srand(537099);\n",
    "# Draw R Normal simulations\n",
    "u1 = rand(Normal(), N, R);\n",
    "@time sMLE11 = optimize(f_SimlnLike1, gmOLS, opts)"
   ]
  },
  {
   "cell_type": "code",
   "execution_count": 12,
   "metadata": {
    "collapsed": false
   },
   "outputs": [
    {
     "name": "stdout",
     "output_type": "stream",
     "text": [
      "481."
     ]
    }
   ],
   "source": [
    "# Crude Freq at 500 Sim --- Takes about 10min\n",
    "R = 500\n",
    "srand(537099);\n",
    "# Draw R Normal simulations\n",
    "u1 = rand(Normal(), N, R);\n",
    "@time sMLE12 = optimize(f_SimlnLike1, gmSTATA, opts)"
   ]
  },
  {
   "cell_type": "code",
   "execution_count": 13,
   "metadata": {
    "collapsed": false
   },
   "outputs": [
    {
     "name": "stdout",
     "output_type": "stream",
     "text": [
      "889.139479 seconds (18.48 M allocations: 569.219 GB, 18.21% gc time)\n"
     ]
    },
    {
     "data": {
      "text/plain": [
       "Results of Optimization Algorithm\n",
       " * Algorithm: Nelder-Mead\n",
       " * Starting Point: [-1.88,1.78,0.27,0.05,0.29]\n",
       " * Minimizer: [-1.8879350054142956,1.7728060857032728, ...]\n",
       " * Minimum: 2.828608e+04\n",
       " * Iterations: 183\n",
       " * Convergence: true\n",
       "   *  √(Σ(yᵢ-ȳ)²)/n < 1.0e-08: true\n",
       "   * Reached Maximum Number of Iterations: false\n",
       " * Objective Function Calls: 197"
      ]
     },
     "execution_count": 13,
     "metadata": {},
     "output_type": "execute_result"
    }
   ],
   "source": [
    "# Crude Freq at 1000 Sim ---- Takes about 20min!\n",
    "R = 1000\n",
    "srand(537099);\n",
    "# Draw R Normal simulations\n",
    "u1 = rand(Normal(), N, R);\n",
    "@time sMLE13 = optimize(f_SimlnLike1, gmSTATA, opts)"
   ]
  },
  {
   "cell_type": "code",
   "execution_count": 14,
   "metadata": {
    "collapsed": false
   },
   "outputs": [
    {
     "data": {
      "text/html": [
       "<table class=\"data-frame\"><thead><tr><th></th><th>vars</th><th>OLS</th><th>MLE</th><th>CF100</th><th>CF500</th><th>CF1000</th></tr></thead><tbody><tr><th>1</th><td>cons</td><td>-0.094</td><td>-1.88</td><td>-1.583</td><td>-1.891</td><td>-1.888</td></tr><tr><th>2</th><td>edu</td><td>0.568</td><td>1.78</td><td>1.603</td><td>1.78</td><td>1.773</td></tr><tr><th>3</th><td>wht</td><td>0.092</td><td>0.27</td><td>0.132</td><td>0.279</td><td>0.287</td></tr><tr><th>4</th><td>msa</td><td>0.016</td><td>0.05</td><td>0.069</td><td>0.052</td><td>0.054</td></tr><tr><th>5</th><td>expr</td><td>0.099</td><td>0.29</td><td>0.265</td><td>0.297</td><td>0.294</td></tr></tbody></table>"
      ],
      "text/plain": [
       "5×6 DataFrames.DataFrame\n",
       "│ Row │ vars   │ OLS    │ MLE   │ CF100  │ CF500  │ CF1000 │\n",
       "├─────┼────────┼────────┼───────┼────────┼────────┼────────┤\n",
       "│ 1   │ \"cons\" │ -0.094 │ -1.88 │ -1.583 │ -1.891 │ -1.888 │\n",
       "│ 2   │ \"edu\"  │ 0.568  │ 1.78  │ 1.603  │ 1.78   │ 1.773  │\n",
       "│ 3   │ \"wht\"  │ 0.092  │ 0.27  │ 0.132  │ 0.279  │ 0.287  │\n",
       "│ 4   │ \"msa\"  │ 0.016  │ 0.05  │ 0.069  │ 0.052  │ 0.054  │\n",
       "│ 5   │ \"expr\" │ 0.099  │ 0.29  │ 0.265  │ 0.297  │ 0.294  │"
      ]
     },
     "execution_count": 14,
     "metadata": {},
     "output_type": "execute_result"
    }
   ],
   "source": [
    "DataFrame(vars = [\"cons\", \"edu\", \"wht\", \"msa\", \"expr\"],\n",
    "OLS = round(gmOLS,3),\n",
    "#MLE = round(Optim.minimizer(MLE),3), \n",
    "MLE = round(gmSTATA,3), \n",
    "CF100 = round(Optim.minimizer(sMLE11),3), \n",
    "CF500 = round(Optim.minimizer(sMLE12),3), \n",
    "CF1000 = round(Optim.minimizer(sMLE13),3))"
   ]
  },
  {
   "cell_type": "code",
   "execution_count": 15,
   "metadata": {
    "collapsed": true
   },
   "outputs": [],
   "source": [
    "## AVar of Simulators\n",
    "XG = X*Optim.minimizer(sMLE11);\n",
    "R = 100;\n",
    "srand(537099);\n",
    "# Draw R Normal simulations\n",
    "u1 = rand(Normal(), N, R);\n",
    "CRD = CrFr(XG);\n",
    "phi = pdf(Normal(), XG);\n",
    "val = zeros(k,k);\n",
    "for i in 1:N\n",
    "    val += ((((phi[i])^2) / (CRD[i]*(1-CRD[i])))*(X[i,:]*X[i,:]'))\n",
    "end\n",
    "avar11 = inv(val/N);\n",
    "standerr11 = sqrt(diag(avar11/N));\n",
    "\n",
    "## AVar of Simulators\n",
    "XG = X*Optim.minimizer(sMLE12);\n",
    "R = 500;\n",
    "srand(537099);\n",
    "# Draw R Normal simulations\n",
    "u1 = rand(Normal(), N, R);\n",
    "CRD = CrFr(XG);\n",
    "phi = pdf(Normal(), XG);\n",
    "val = zeros(k,k);\n",
    "for i in 1:N\n",
    "    val += ((((phi[i])^2) / (CRD[i]*(1-CRD[i])))*(X[i,:]*X[i,:]'))\n",
    "end\n",
    "avar12 = inv(val/N);\n",
    "standerr12 = sqrt(diag(avar12/N));\n",
    "\n",
    "## AVar of Simulators\n",
    "XG = X*Optim.minimizer(sMLE13);\n",
    "R = 1000;\n",
    "srand(537099);\n",
    "# Draw R Normal simulations\n",
    "u1 = rand(Normal(), N, R);\n",
    "CRD = CrFr(XG);\n",
    "phi = pdf(Normal(), XG);\n",
    "val = zeros(k,k);\n",
    "for i in 1:N\n",
    "    val += ((((phi[i])^2) / (CRD[i]*(1-CRD[i])))*(X[i,:]*X[i,:]'))\n",
    "end\n",
    "avar13 = inv(val/N);\n",
    "standerr13 = sqrt(diag(avar13/N));"
   ]
  },
  {
   "cell_type": "code",
   "execution_count": 16,
   "metadata": {
    "collapsed": false
   },
   "outputs": [
    {
     "data": {
      "text/html": [
       "<table class=\"data-frame\"><thead><tr><th></th><th>vars</th><th>MLE</th><th>CF100</th><th>CF500</th><th>CF1000</th></tr></thead><tbody><tr><th>1</th><td>cons</td><td>0.031</td><td>0.029</td><td>0.031</td><td>0.031</td></tr><tr><th>2</th><td>edu</td><td>0.024</td><td>0.022</td><td>0.024</td><td>0.024</td></tr><tr><th>3</th><td>wht</td><td>0.018</td><td>0.018</td><td>0.018</td><td>0.018</td></tr><tr><th>4</th><td>msa</td><td>0.012</td><td>0.012</td><td>0.012</td><td>0.012</td></tr><tr><th>5</th><td>expr</td><td>0.008</td><td>0.008</td><td>0.008</td><td>0.008</td></tr></tbody></table>"
      ],
      "text/plain": [
       "5×5 DataFrames.DataFrame\n",
       "│ Row │ vars   │ MLE   │ CF100 │ CF500 │ CF1000 │\n",
       "├─────┼────────┼───────┼───────┼───────┼────────┤\n",
       "│ 1   │ \"cons\" │ 0.031 │ 0.029 │ 0.031 │ 0.031  │\n",
       "│ 2   │ \"edu\"  │ 0.024 │ 0.022 │ 0.024 │ 0.024  │\n",
       "│ 3   │ \"wht\"  │ 0.018 │ 0.018 │ 0.018 │ 0.018  │\n",
       "│ 4   │ \"msa\"  │ 0.012 │ 0.012 │ 0.012 │ 0.012  │\n",
       "│ 5   │ \"expr\" │ 0.008 │ 0.008 │ 0.008 │ 0.008  │"
      ]
     },
     "execution_count": 16,
     "metadata": {},
     "output_type": "execute_result"
    }
   ],
   "source": [
    "DataFrame(vars = [\"cons\", \"edu\", \"wht\", \"msa\", \"expr\"],\n",
    "MLE = [0.031, 0.024, 0.018, 0.012, 0.008],\n",
    "CF100 = round(standerr11,3), \n",
    "CF500 = round(standerr12,3), \n",
    "CF1000 = round(standerr13,3))"
   ]
  },
  {
   "cell_type": "markdown",
   "metadata": {
    "collapsed": false
   },
   "source": [
    "Importance Sampling\n",
    "===================\n",
    "\n",
    "$\\Pr(D_i = 1|X_i) = \\Pr(X_i^{\\prime}\\gamma \\ge \\epsilon_i) = \\int 1\\left[X_i^{\\prime}\\gamma \\ge \\epsilon_i\\right] f(\\epsilon)d\\epsilon$\n",
    "\n",
    "For importance sampling, draw $u_i \\sim U(0,1)$ then find $\\eta_i = G^{-1}(u_i)$.\n",
    "Calculate $w(\\eta_i) = \\frac{f(\\eta_i)}{g(\\eta_i)}$ and the \n",
    "$\\tilde{w}(\\eta_i) = w(\\eta_i)\\ / \\int w(\\eta_i)di.$\n",
    "\n",
    "Take the sumulator agverage: $\\sum_{r=1:R} \\left[1\\left[X_i^{\\prime}\\gamma \\ge - \\eta_i \\right]\\cdot \\tilde{w}(\\eta_{ir})\\right]$. \n",
    "This is refered to a normalized importance sampler.\n",
    "Note this is different than the lecture notes to ensure that $\\widehat{\\Phi()} \\in (0,1)$, and that the division by $R$ twice cancels out.\n",
    "\n",
    "For this problem, using the standard normal and standard logistic, $w(\\eta_i) = \\frac{1}{\\sqrt{2\\pi}}\\left[e^{\\frac{-\\eta_i^2}{2}}\\right]\\cdot\\left[\\frac{e^{-\\eta_i}}{(1 + e^{-\\eta_i})^{2}}\\right]^{-1} = \\phi(\\eta_i)\\cdot(1+e^{-\\eta_i})^{2}$"
   ]
  },
  {
   "cell_type": "code",
   "execution_count": 17,
   "metadata": {
    "collapsed": false
   },
   "outputs": [
    {
     "data": {
      "text/plain": [
       "ImpSmp (generic function with 1 method)"
      ]
     },
     "execution_count": 17,
     "metadata": {},
     "output_type": "execute_result"
    }
   ],
   "source": [
    "function ImpSmp(Xg::Array{Float64,1})\n",
    "    # This function is a non-general Importance Sampling simulator for probit estimation.\n",
    "    # Using the density of the standard logistic distribution as our weighting function, g(u)\n",
    "    # Want Pr(X_i*g > e_i) by sample avg of 1[X_i*g > - e_ir] /  for r = 1:R\n",
    "    # Arguments: R simulations, Xg candidate X*gamma, gamma is coef vector\n",
    "    nu2 = Array(Float64,N,R) \n",
    "    Iis = Array(Float64,N,1)\n",
    "    # Get the Xg values greater than simulated errors, and convert logical to numeric\n",
    "    nu2 = convert(Array{Float64,2},(Xg.>=(-1.0)*u2))\n",
    "    wt2 = sum(nu2 .* WT,2)\n",
    "    # Here the Normaized Impt Sampler rather than only divide by R\n",
    "    Iis = wt2 ./ WTsum\n",
    "end"
   ]
  },
  {
   "cell_type": "code",
   "execution_count": 18,
   "metadata": {
    "collapsed": false
   },
   "outputs": [
    {
     "data": {
      "text/plain": [
       "f_SimlnLike2 (generic function with 1 method)"
      ]
     },
     "execution_count": 18,
     "metadata": {},
     "output_type": "execute_result"
    }
   ],
   "source": [
    "############ Construct Likelihood Function\n",
    "function f_SimlnLike2(gm::Vector)\n",
    "    ## This creates a lnL function of given parameters for Sim.MLE\n",
    "    # (Re)Set Random Seed to Prevent \"Chattering\" - use same simulations each iteration    \n",
    "    # Preallocate Vectors\n",
    "    t1 = Array(Float64,1,k)\n",
    "    t2 = Array(Float64,N,1)\n",
    "    t3 = Array(Float64,N,1)\n",
    "    t4 = Array(Float64,N,1)\n",
    "    t5 = Array(Float64,1,1)\n",
    "    # Calculations\n",
    "    t1 = [gm[1] gm[2] gm[3] gm[4] gm[5]]\n",
    "    t2 = vec(X*t1')\n",
    "    # CrFr Simulation of CDF of Standard Normal dist. eval. at each obs.\n",
    "    t3 = ImpSmp(t2)\n",
    "    # Column vector of lnL_i\n",
    "    t4 = F.*log(t3) + (1.0 - F).*log(1.0 - t3)\n",
    "    # Sum of lnL_i = lnL; return the negation for minimization\n",
    "    t5 = sum(t4)\n",
    "    return (-1.0)*t5\n",
    "end"
   ]
  },
  {
   "cell_type": "code",
   "execution_count": 19,
   "metadata": {
    "collapsed": false
   },
   "outputs": [
    {
     "name": "stdout",
     "output_type": "stream",
     "text": [
      "115.201729 seconds (65.56 M allocations: 98.700 GB, 16.27% gc time)\n"
     ]
    },
    {
     "data": {
      "text/plain": [
       "Results of Optimization Algorithm\n",
       " * Algorithm: Nelder-Mead\n",
       " * Starting Point: [-0.09421108407456535,0.568001095931335, ...]\n",
       " * Minimizer: [-1.8595501398432197,1.7720276018281365, ...]\n",
       " * Minimum: 2.855221e+04\n",
       " * Iterations: 291\n",
       " * Convergence: true\n",
       "   *  √(Σ(yᵢ-ȳ)²)/n < 1.0e-08: true\n",
       "   * Reached Maximum Number of Iterations: false\n",
       " * Objective Function Calls: 360"
      ]
     },
     "execution_count": 19,
     "metadata": {},
     "output_type": "execute_result"
    }
   ],
   "source": [
    "# Draw Uniform R simulations --- takes about 2min\n",
    "R = 100;\n",
    "srand(537099);\n",
    "u2 = rand(Logistic(), N, R);\n",
    "WT = pdf(Normal(), u2) ./ pdf(Logistic(), u2);\n",
    "WTsum = sum(WT,2);\n",
    "## Optimize!\n",
    "@time sMLE21 = optimize(f_SimlnLike2, gmOLS, opts)"
   ]
  },
  {
   "cell_type": "code",
   "execution_count": 20,
   "metadata": {
    "collapsed": false
   },
   "outputs": [
    {
     "name": "stdout",
     "output_type": "stream",
     "text": [
      "397.831502 seconds (42.05 M allocations: 268.248 GB, 9.34% gc time)\n"
     ]
    },
    {
     "data": {
      "text/plain": [
       "Results of Optimization Algorithm\n",
       " * Algorithm: Nelder-Mead\n",
       " * Starting Point: [-1.88,1.78,0.27,0.05,0.29]\n",
       " * Minimizer: [-1.874530030640737,1.7731889854092202, ...]\n",
       " * Minimum: 2.833152e+04\n",
       " * Iterations: 137\n",
       " * Convergence: true\n",
       "   *  √(Σ(yᵢ-ȳ)²)/n < 1.0e-08: true\n",
       "   * Reached Maximum Number of Iterations: false\n",
       " * Objective Function Calls: 150"
      ]
     },
     "execution_count": 20,
     "metadata": {},
     "output_type": "execute_result"
    }
   ],
   "source": [
    "# Draw Uniform R simulations --- Takes about 13min\n",
    "R = 500;\n",
    "srand(537099);\n",
    "u2 = rand(Logistic(), N, R);\n",
    "WT = pdf(Normal(), u2) ./ pdf(Logistic(), u2);\n",
    "WTsum = sum(WT,2);\n",
    "## Optimize!\n",
    "@time sMLE22 = optimize(f_SimlnLike2, gmSTATA, opts)"
   ]
  },
  {
   "cell_type": "code",
   "execution_count": 21,
   "metadata": {
    "collapsed": false
   },
   "outputs": [
    {
     "name": "stdout",
     "output_type": "stream",
     "text": [
      "930.232676 seconds (57.73 M allocations: 635.119 GB, 8.79% gc time)\n"
     ]
    },
    {
     "data": {
      "text/plain": [
       "Results of Optimization Algorithm\n",
       " * Algorithm: Nelder-Mead\n",
       " * Starting Point: [-1.88,1.78,0.27,0.05,0.29]\n",
       " * Minimizer: [-1.8833411007783787,1.7762060442507785, ...]\n",
       " * Minimum: 2.829690e+04\n",
       " * Iterations: 154\n",
       " * Convergence: true\n",
       "   *  √(Σ(yᵢ-ȳ)²)/n < 1.0e-08: true\n",
       "   * Reached Maximum Number of Iterations: false\n",
       " * Objective Function Calls: 164"
      ]
     },
     "execution_count": 21,
     "metadata": {},
     "output_type": "execute_result"
    }
   ],
   "source": [
    "# Draw Uniform R simulations\n",
    "R = 1000;\n",
    "srand(537099);\n",
    "u2 = rand(Logistic(), N, R);\n",
    "WT = pdf(Normal(), u2) ./ pdf(Logistic(), u2);\n",
    "WTsum = sum(WT,2);\n",
    "## Optimize!\n",
    "@time sMLE23 = optimize(f_SimlnLike2, gmSTATA, opts)"
   ]
  },
  {
   "cell_type": "code",
   "execution_count": 22,
   "metadata": {
    "collapsed": false
   },
   "outputs": [
    {
     "data": {
      "text/html": [
       "<table class=\"data-frame\"><thead><tr><th></th><th>vars</th><th>OLS</th><th>MLE</th><th>IS100</th><th>IS500</th><th>IS1000</th></tr></thead><tbody><tr><th>1</th><td>cons</td><td>-0.094</td><td>-1.88</td><td>-1.86</td><td>-1.875</td><td>-1.883</td></tr><tr><th>2</th><td>edu</td><td>0.568</td><td>1.78</td><td>1.772</td><td>1.773</td><td>1.776</td></tr><tr><th>3</th><td>wht</td><td>0.092</td><td>0.27</td><td>0.268</td><td>0.271</td><td>0.275</td></tr><tr><th>4</th><td>msa</td><td>0.016</td><td>0.05</td><td>0.063</td><td>0.055</td><td>0.056</td></tr><tr><th>5</th><td>expr</td><td>0.099</td><td>0.29</td><td>0.275</td><td>0.291</td><td>0.292</td></tr></tbody></table>"
      ],
      "text/plain": [
       "5×6 DataFrames.DataFrame\n",
       "│ Row │ vars   │ OLS    │ MLE   │ IS100 │ IS500  │ IS1000 │\n",
       "├─────┼────────┼────────┼───────┼───────┼────────┼────────┤\n",
       "│ 1   │ \"cons\" │ -0.094 │ -1.88 │ -1.86 │ -1.875 │ -1.883 │\n",
       "│ 2   │ \"edu\"  │ 0.568  │ 1.78  │ 1.772 │ 1.773  │ 1.776  │\n",
       "│ 3   │ \"wht\"  │ 0.092  │ 0.27  │ 0.268 │ 0.271  │ 0.275  │\n",
       "│ 4   │ \"msa\"  │ 0.016  │ 0.05  │ 0.063 │ 0.055  │ 0.056  │\n",
       "│ 5   │ \"expr\" │ 0.099  │ 0.29  │ 0.275 │ 0.291  │ 0.292  │"
      ]
     },
     "execution_count": 22,
     "metadata": {},
     "output_type": "execute_result"
    }
   ],
   "source": [
    "DataFrame(vars = [\"cons\", \"edu\", \"wht\", \"msa\", \"expr\"],\n",
    "OLS = round(gmOLS,3),\n",
    "#MLE = round(Optim.minimizer(MLE),3), \n",
    "MLE = round(gmSTATA,3), \n",
    "IS100 = round(Optim.minimizer(sMLE21),3), \n",
    "IS500 = round(Optim.minimizer(sMLE22),3), \n",
    "IS1000 = round(Optim.minimizer(sMLE23),3))"
   ]
  },
  {
   "cell_type": "code",
   "execution_count": 23,
   "metadata": {
    "collapsed": false
   },
   "outputs": [],
   "source": [
    "## AVar of Simulators\n",
    "XG = X*Optim.minimizer(sMLE21);\n",
    "R = 100;\n",
    "srand(537099);\n",
    "u2 = rand(Logistic(), N, R);\n",
    "WT = pdf(Normal(), u2) ./ pdf(Logistic(), u2);\n",
    "WTsum = sum(WT,2);\n",
    "IMP = ImpSmp(XG);\n",
    "phi = pdf(Normal(), XG);\n",
    "val = zeros(k,k);\n",
    "for i in 1:N\n",
    "    val += ((((phi[i])^2) / (IMP[i]*(1-IMP[i])))*(X[i,:]*X[i,:]'))\n",
    "end\n",
    "avar21 = inv(val/N);\n",
    "standerr21 = sqrt(diag(avar21/N));\n",
    "\n",
    "## AVar of Simulators\n",
    "XG = X*Optim.minimizer(sMLE22);\n",
    "R = 500;\n",
    "srand(537099);\n",
    "u2 = rand(Logistic(), N, R);\n",
    "WT = pdf(Normal(), u2) ./ pdf(Logistic(), u2);\n",
    "WTsum = sum(WT,2);\n",
    "IMP = ImpSmp(XG);\n",
    "phi = pdf(Normal(), XG);\n",
    "val = zeros(k,k);\n",
    "for i in 1:N\n",
    "    val += ((((phi[i])^2) / (IMP[i]*(1-IMP[i])))*(X[i,:]*X[i,:]'))\n",
    "end\n",
    "avar22 = inv(val/N);\n",
    "standerr22 = sqrt(diag(avar22/N));\n",
    "\n",
    "## AVar of Simulators\n",
    "XG = X*Optim.minimizer(sMLE23);\n",
    "R = 1000;\n",
    "srand(537099);\n",
    "u2 = rand(Logistic(), N, R);\n",
    "WT = pdf(Normal(), u2) ./ pdf(Logistic(), u2);\n",
    "WTsum = sum(WT,2);\n",
    "IMP = ImpSmp(XG);\n",
    "phi = pdf(Normal(), XG);\n",
    "val = zeros(k,k);\n",
    "for i in 1:N\n",
    "    val += ((((phi[i])^2) / (IMP[i]*(1-IMP[i])))*(X[i,:]*X[i,:]'))\n",
    "end\n",
    "avar23 = inv(val/N);\n",
    "standerr23 = sqrt(diag(avar23/N));"
   ]
  },
  {
   "cell_type": "code",
   "execution_count": 24,
   "metadata": {
    "collapsed": false
   },
   "outputs": [
    {
     "data": {
      "text/html": [
       "<table class=\"data-frame\"><thead><tr><th></th><th>vars</th><th>MLE</th><th>IS100</th><th>IS500</th><th>IS1000</th></tr></thead><tbody><tr><th>1</th><td>cons</td><td>0.031</td><td>0.03</td><td>0.031</td><td>0.031</td></tr><tr><th>2</th><td>edu</td><td>0.024</td><td>0.023</td><td>0.024</td><td>0.024</td></tr><tr><th>3</th><td>wht</td><td>0.018</td><td>0.018</td><td>0.018</td><td>0.018</td></tr><tr><th>4</th><td>msa</td><td>0.012</td><td>0.012</td><td>0.012</td><td>0.012</td></tr><tr><th>5</th><td>expr</td><td>0.008</td><td>0.008</td><td>0.008</td><td>0.008</td></tr></tbody></table>"
      ],
      "text/plain": [
       "5×5 DataFrames.DataFrame\n",
       "│ Row │ vars   │ MLE   │ IS100 │ IS500 │ IS1000 │\n",
       "├─────┼────────┼───────┼───────┼───────┼────────┤\n",
       "│ 1   │ \"cons\" │ 0.031 │ 0.03  │ 0.031 │ 0.031  │\n",
       "│ 2   │ \"edu\"  │ 0.024 │ 0.023 │ 0.024 │ 0.024  │\n",
       "│ 3   │ \"wht\"  │ 0.018 │ 0.018 │ 0.018 │ 0.018  │\n",
       "│ 4   │ \"msa\"  │ 0.012 │ 0.012 │ 0.012 │ 0.012  │\n",
       "│ 5   │ \"expr\" │ 0.008 │ 0.008 │ 0.008 │ 0.008  │"
      ]
     },
     "execution_count": 24,
     "metadata": {},
     "output_type": "execute_result"
    }
   ],
   "source": [
    "DataFrame(vars = [\"cons\", \"edu\", \"wht\", \"msa\", \"expr\"],\n",
    "MLE = [0.031, 0.024, 0.018, 0.012, 0.008],\n",
    "IS100 = round(standerr21,3), \n",
    "IS500 = round(standerr22,3), \n",
    "IS1000 = round(standerr23,3))"
   ]
  },
  {
   "cell_type": "markdown",
   "metadata": {
    "collapsed": false
   },
   "source": [
    "Antivariate Crude Frequency\n",
    "===========================\n",
    "\n",
    "Similar to the Crude Frequency simulator, except we also calculate $\\Phi^{-1}(1 - u_{ir})$ to get a negatively correlated random variable to contruct a second crude frequency simulator that we will average with the one constructed by $\\Phi^{-1}(u_{ir})$."
   ]
  },
  {
   "cell_type": "code",
   "execution_count": 25,
   "metadata": {
    "collapsed": false
   },
   "outputs": [
    {
     "data": {
      "text/plain": [
       "AVSim (generic function with 1 method)"
      ]
     },
     "execution_count": 25,
     "metadata": {},
     "output_type": "execute_result"
    }
   ],
   "source": [
    "function AVSim(Xg::Array{Float64,1})\n",
    "    # This function is a non-general Importance Sampling simulator for probit estimation.\n",
    "    # Using the density of the standard logistic distribution as our weighting function, g(u)\n",
    "    # Want Pr(X_i*g > e_i) by sample avg of 1[X_i*g > - e_ir] /  for r = 1:R\n",
    "    # Arguments: R simulations, Xg candidate X*gamma, gamma is coef vector\n",
    "    r = Float64(R)\n",
    "    nu31 = Array(Float64,N,R)\n",
    "    nu32 = Array(Float64,N,R)\n",
    "    IAV = Array(Float64,N,1)\n",
    "    # Get the Xg values greater than simulated errors, and convert logical to numeric\n",
    "    nu31 = convert(Array{Float64,2},(Xg.>=(-1.0)*u31))\n",
    "    nu32 = convert(Array{Float64,2},(Xg.>=(-1.0)*u32))\n",
    "    # Average of the simulations for each observation\n",
    "    IAV = sum(nu31 + nu32, 2) / (2.0*r)\n",
    "end"
   ]
  },
  {
   "cell_type": "code",
   "execution_count": 26,
   "metadata": {
    "collapsed": false
   },
   "outputs": [
    {
     "data": {
      "text/plain": [
       "f_SimlnLike3 (generic function with 1 method)"
      ]
     },
     "execution_count": 26,
     "metadata": {},
     "output_type": "execute_result"
    }
   ],
   "source": [
    "############ Construct Likelihood Function\n",
    "function f_SimlnLike3(gm::Vector)\n",
    "    ## This creates a lnL function of given parameters for Sim.MLE\n",
    "    # (Re)Set Random Seed to Prevent \"Chattering\" - use same simulations each iteration\n",
    "    srand(537099)    \n",
    "    # Preallocate Vectors\n",
    "    t1 = Array(Float64,1,k)\n",
    "    t2 = Array(Float64,N,1)\n",
    "    t3 = Array(Float64,N,1)\n",
    "    t4 = Array(Float64,N,1)\n",
    "    t5 = Array(Float64,1,1)\n",
    "    # Calculations\n",
    "    t1 = [gm[1] gm[2] gm[3] gm[4] gm[5]]\n",
    "    t2 = vec(X*t1')\n",
    "    # CrFr Simulation of CDF of Standard Normal dist. eval. at each obs.\n",
    "    t3 = AVSim(t2)\n",
    "    # Column vector of lnL_i\n",
    "    t4 = F.*log(t3) + (1 - F).*log(1-t3)\n",
    "    # Sum of lnL_i = lnL; return the negation for minimization\n",
    "    t5 = sum(t4)\n",
    "    return (-1)*t5\n",
    "end"
   ]
  },
  {
   "cell_type": "code",
   "execution_count": 27,
   "metadata": {
    "collapsed": false
   },
   "outputs": [
    {
     "name": "stdout",
     "output_type": "stream",
     "text": [
      "394."
     ]
    }
   ],
   "source": [
    "# Crude Freq at 100 Sim --- Takes about 5min\n",
    "R = 100;\n",
    "srand(537099);\n",
    "# Draw R Normal simulations\n",
    "u3 = rand(N, R);\n",
    "u31 = norminvcdf.(u3);\n",
    "u32 = norminvcdf.(1.0 - u3);\n",
    "@time sMLE31 = optimize(f_SimlnLike3, gmOLS, opts)"
   ]
  },
  {
   "cell_type": "code",
   "execution_count": 28,
   "metadata": {
    "collapsed": false
   },
   "outputs": [
    {
     "name": "stdout",
     "output_type": "stream",
     "text": [
      "395.319562 seconds (70.50 M allocations: 176.507 GB, 57.39% gc time)\n"
     ]
    }
   ],
   "source": [
    "# AV Crude Freq at 100 Sim --- Takes about 5min\n",
    "R = 100;\n",
    "srand(537099);\n",
    "# Draw R Normal simulations\n",
    "u3 = rand(N, R);\n",
    "u31 = norminvcdf.(u3);\n",
    "u32 = norminvcdf.(1.0 - u3);\n",
    "@time sMLE31 = optimize(f_SimlnLike3, gmOLS, opts)"
   ]
  },
  {
   "cell_type": "code",
   "execution_count": 29,
   "metadata": {
    "collapsed": false
   },
   "outputs": [
    {
     "name": "stdout",
     "output_type": "stream",
     "text": [
      "1077.217933 seconds (66.63 M allocations: 642.308 GB, 24.81% gc time)\n"
     ]
    }
   ],
   "source": [
    "# AV Crude Freq at 500 Sim --- Takes about \n",
    "R = 500;\n",
    "srand(537099);\n",
    "# Draw R Normal simulations\n",
    "u3 = rand(N, R);\n",
    "u31 = norminvcdf.(u3);\n",
    "u32 = norminvcdf.(1.0 - u3);\n",
    "@time sMLE32 = optimize(f_SimlnLike3, gmSTATA, opts)"
   ]
  },
  {
   "cell_type": "code",
   "execution_count": 30,
   "metadata": {
    "collapsed": false
   },
   "outputs": [
    {
     "name": "stdout",
     "output_type": "stream",
     "text": [
      "2244.818797 seconds (92.59 M allocations: 1.371 TB, 16.65% gc time)\n"
     ]
    },
    {
     "data": {
      "text/plain": [
       "Results of Optimization Algorithm\n",
       " * Algorithm: Nelder-Mead\n",
       " * Starting Point: [-1.88,1.78,0.27,0.05,0.29]\n",
       " * Minimizer: [-1.883698428814355,1.7832650464907938, ...]\n",
       " * Minimum: 2.828129e+04\n",
       " * Iterations: 187\n",
       " * Convergence: true\n",
       "   *  √(Σ(yᵢ-ȳ)²)/n < 1.0e-08: true\n",
       "   * Reached Maximum Number of Iterations: false\n",
       " * Objective Function Calls: 210"
      ]
     },
     "execution_count": 30,
     "metadata": {},
     "output_type": "execute_result"
    }
   ],
   "source": [
    "# AV Crude Freq at 1000 Sim --- Takes about \n",
    "R = 1000;\n",
    "srand(537099);\n",
    "# Draw R Normal simulations\n",
    "u3 = rand(N, R);\n",
    "u31 = norminvcdf.(u3);\n",
    "u32 = norminvcdf.(1.0 - u3);\n",
    "@time sMLE33 = optimize(f_SimlnLike3, gmSTATA, opts)"
   ]
  },
  {
   "cell_type": "code",
   "execution_count": 31,
   "metadata": {
    "collapsed": false
   },
   "outputs": [
    {
     "data": {
      "text/html": [
       "<table class=\"data-frame\"><thead><tr><th></th><th>vars</th><th>OLS</th><th>MLE</th><th>AV100</th><th>AV500</th><th>AV1000</th></tr></thead><tbody><tr><th>1</th><td>cons</td><td>-0.094</td><td>-1.88</td><td>-1.825</td><td>-1.874</td><td>-1.884</td></tr><tr><th>2</th><td>edu</td><td>0.568</td><td>1.78</td><td>1.747</td><td>1.785</td><td>1.783</td></tr><tr><th>3</th><td>wht</td><td>0.092</td><td>0.27</td><td>0.262</td><td>0.256</td><td>0.273</td></tr><tr><th>4</th><td>msa</td><td>0.016</td><td>0.05</td><td>0.041</td><td>0.044</td><td>0.044</td></tr><tr><th>5</th><td>expr</td><td>0.099</td><td>0.29</td><td>0.289</td><td>0.293</td><td>0.292</td></tr></tbody></table>"
      ],
      "text/plain": [
       "5×6 DataFrames.DataFrame\n",
       "│ Row │ vars   │ OLS    │ MLE   │ AV100  │ AV500  │ AV1000 │\n",
       "├─────┼────────┼────────┼───────┼────────┼────────┼────────┤\n",
       "│ 1   │ \"cons\" │ -0.094 │ -1.88 │ -1.825 │ -1.874 │ -1.884 │\n",
       "│ 2   │ \"edu\"  │ 0.568  │ 1.78  │ 1.747  │ 1.785  │ 1.783  │\n",
       "│ 3   │ \"wht\"  │ 0.092  │ 0.27  │ 0.262  │ 0.256  │ 0.273  │\n",
       "│ 4   │ \"msa\"  │ 0.016  │ 0.05  │ 0.041  │ 0.044  │ 0.044  │\n",
       "│ 5   │ \"expr\" │ 0.099  │ 0.29  │ 0.289  │ 0.293  │ 0.292  │"
      ]
     },
     "execution_count": 31,
     "metadata": {},
     "output_type": "execute_result"
    }
   ],
   "source": [
    "DataFrame(vars = [\"cons\", \"edu\", \"wht\", \"msa\", \"expr\"],\n",
    "OLS = round(gmOLS,3),\n",
    "#MLE = round(Optim.minimizer(MLE),3), \n",
    "MLE = round(gmSTATA,3), \n",
    "AV100 = round(Optim.minimizer(sMLE31),3), \n",
    "AV500 = round(Optim.minimizer(sMLE32),3), \n",
    "AV1000 = round(Optim.minimizer(sMLE33),3))"
   ]
  },
  {
   "cell_type": "code",
   "execution_count": 35,
   "metadata": {
    "collapsed": true
   },
   "outputs": [],
   "source": [
    "## AVar of Simulator - 1\n",
    "XG = X*Optim.minimizer(sMLE31);\n",
    "R = 100;\n",
    "srand(537099);\n",
    "# Draw R Normal simulations\n",
    "u3 = rand(N, R);\n",
    "u31 = norminvcdf.(u3);\n",
    "u32 = norminvcdf.(1.0 - u3);\n",
    "AVS = AVSim(XG);\n",
    "phi = pdf(Normal(), XG);\n",
    "val = zeros(k,k);\n",
    "for i in 1:N\n",
    "    val += ((((phi[i])^2) / (AVS[i]*(1-AVS[i])))*(X[i,:]*X[i,:]'))\n",
    "end\n",
    "avar31 = inv(val/N);\n",
    "standerr31 = sqrt(diag(avar31/N));\n",
    "\n",
    "## AVar of Simulator - 2\n",
    "XG = X*Optim.minimizer(sMLE32);\n",
    "R = 500;\n",
    "srand(537099);\n",
    "# Draw R Normal simulations\n",
    "u3 = rand(N, R);\n",
    "u31 = norminvcdf.(u3);\n",
    "u32 = norminvcdf.(1.0 - u3);\n",
    "AVS = AVSim(XG);\n",
    "phi = pdf(Normal(), XG);\n",
    "val = zeros(k,k);\n",
    "for i in 1:N\n",
    "    val += ((((phi[i])^2) / (AVS[i]*(1-AVS[i])))*(X[i,:]*X[i,:]'))\n",
    "end\n",
    "avar32 = inv(val/N);\n",
    "standerr32 = sqrt(diag(avar32/N));\n",
    "\n",
    "## AVar of Simulators\n",
    "XG = X*Optim.minimizer(sMLE33);\n",
    "R = 1000;\n",
    "srand(537099);\n",
    "# Draw R Normal simulations\n",
    "u3 = rand(N, R);\n",
    "u31 = norminvcdf.(u3);\n",
    "u32 = norminvcdf.(1.0 - u3);\n",
    "AVS = AVSim(XG);\n",
    "phi = pdf(Normal(), XG);\n",
    "val = zeros(k,k);\n",
    "for i in 1:N\n",
    "    val += ((((phi[i])^2) / (AVS[i]*(1-AVS[i])))*(X[i,:]*X[i,:]'))\n",
    "end\n",
    "avar33 = inv(val/N);\n",
    "standerr33 = sqrt(diag(avar33/N));"
   ]
  },
  {
   "cell_type": "code",
   "execution_count": 36,
   "metadata": {
    "collapsed": false
   },
   "outputs": [
    {
     "data": {
      "text/html": [
       "<table class=\"data-frame\"><thead><tr><th></th><th>vars</th><th>MLE</th><th>AV100</th><th>AV500</th><th>AV1000</th></tr></thead><tbody><tr><th>1</th><td>cons</td><td>0.031</td><td>0.03</td><td>0.031</td><td>0.031</td></tr><tr><th>2</th><td>edu</td><td>0.024</td><td>0.023</td><td>0.024</td><td>0.024</td></tr><tr><th>3</th><td>wht</td><td>0.018</td><td>0.018</td><td>0.018</td><td>0.018</td></tr><tr><th>4</th><td>msa</td><td>0.012</td><td>0.012</td><td>0.012</td><td>0.012</td></tr><tr><th>5</th><td>expr</td><td>0.008</td><td>0.008</td><td>0.008</td><td>0.008</td></tr></tbody></table>"
      ],
      "text/plain": [
       "5×5 DataFrames.DataFrame\n",
       "│ Row │ vars   │ MLE   │ AV100 │ AV500 │ AV1000 │\n",
       "├─────┼────────┼───────┼───────┼───────┼────────┤\n",
       "│ 1   │ \"cons\" │ 0.031 │ 0.03  │ 0.031 │ 0.031  │\n",
       "│ 2   │ \"edu\"  │ 0.024 │ 0.023 │ 0.024 │ 0.024  │\n",
       "│ 3   │ \"wht\"  │ 0.018 │ 0.018 │ 0.018 │ 0.018  │\n",
       "│ 4   │ \"msa\"  │ 0.012 │ 0.012 │ 0.012 │ 0.012  │\n",
       "│ 5   │ \"expr\" │ 0.008 │ 0.008 │ 0.008 │ 0.008  │"
      ]
     },
     "execution_count": 36,
     "metadata": {},
     "output_type": "execute_result"
    }
   ],
   "source": [
    "DataFrame(vars = [\"cons\", \"edu\", \"wht\", \"msa\", \"expr\"],\n",
    "MLE = [0.031, 0.024, 0.018, 0.012, 0.008],\n",
    "AV100 = round(standerr31,3), \n",
    "AV500 = round(standerr32,3), \n",
    "AV1000 = round(standerr33,3))"
   ]
  },
  {
   "cell_type": "code",
   "execution_count": 34,
   "metadata": {
    "collapsed": false
   },
   "outputs": [
    {
     "data": {
      "text/plain": [
       "\"16:04\""
      ]
     },
     "execution_count": 34,
     "metadata": {},
     "output_type": "execute_result"
    }
   ],
   "source": [
    "Dates.format(now(), \"HH:MM\")"
   ]
  },
  {
   "cell_type": "code",
   "execution_count": null,
   "metadata": {
    "collapsed": true
   },
   "outputs": [],
   "source": []
  }
 ],
 "metadata": {
  "anaconda-cloud": {},
  "kernelspec": {
   "display_name": "Julia 0.5.0",
   "language": "julia",
   "name": "julia-0.5"
  },
  "language_info": {
   "file_extension": ".jl",
   "mimetype": "application/julia",
   "name": "julia",
   "version": "0.5.0"
  }
 },
 "nbformat": 4,
 "nbformat_minor": 1
}
