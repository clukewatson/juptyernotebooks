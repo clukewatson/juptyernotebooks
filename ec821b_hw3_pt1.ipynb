{
 "cells": [
  {
   "cell_type": "markdown",
   "metadata": {
    "collapsed": false
   },
   "source": [
    "This script runs EC821B HW03 Pt1: simulation of a multivariate normal probability.\n",
    "\n",
    "$\\Pr(Y\\ge 0),\\ Y\\in \\mathcal{R}^d,\\ Y\\sim \\mathsf{N}(\\mu, \\Omega)$\n",
    "\n",
    "First, I simulate the probability using a GHK Simulator.\n",
    "Then, I simulate using a Crude Frequency and a Crude Frequency Antivariate simulator."
   ]
  },
  {
   "cell_type": "code",
   "execution_count": 1,
   "metadata": {
    "collapsed": true
   },
   "outputs": [],
   "source": [
    "# Set Working Directory\n",
    "cd(\"/Volumes/HDD_lxw/Users/LukeXWatson/Dropbox/02_CLASSES/2017_02_Spring/821B_Cross Section/HW/HW3\")\n",
    "# Get Standard Packages Running\n",
    "using Distributions, Plots, DataFrames, StatsFuns, Optim"
   ]
  },
  {
   "cell_type": "code",
   "execution_count": 2,
   "metadata": {
    "collapsed": false
   },
   "outputs": [],
   "source": [
    "# Set Primatives of the Model\n",
    "mu = [0.5 -0.25 0.5 -0.25 0.5];\n",
    "omg = [1.0 0.3 0.3 0.2 -0.1; 0.3 1.0 0.3 0.2 -0.1; \n",
    "    0.3 0.3 1.0 0.2 -0.1; 0.2 0.2 0.2 1.0 -0.1; -0.1 -0.1 -0.1 -0.1 1];\n",
    "d = length(mu);"
   ]
  },
  {
   "cell_type": "code",
   "execution_count": 3,
   "metadata": {
    "collapsed": false
   },
   "outputs": [
    {
     "data": {
      "text/plain": [
       "5×5 LowerTriangular{Float64,Array{Float64,2}}:\n",
       "  1.0    ⋅           ⋅           ⋅          ⋅      \n",
       "  0.3   0.953939     ⋅           ⋅          ⋅      \n",
       "  0.3   0.22014     0.928191     ⋅          ⋅      \n",
       "  0.2   0.14676     0.116024    0.961769    ⋅      \n",
       " -0.1  -0.0733799  -0.0580119  -0.0649844  0.988447"
      ]
     },
     "execution_count": 3,
     "metadata": {},
     "output_type": "execute_result"
    }
   ],
   "source": [
    "# We want the lower triangle of the cholesky decomposition of Omega.\n",
    "G = chol(omg)'"
   ]
  },
  {
   "cell_type": "code",
   "execution_count": 4,
   "metadata": {
    "collapsed": false
   },
   "outputs": [
    {
     "data": {
      "text/plain": [
       "GHK_Sim (generic function with 1 method)"
      ]
     },
     "execution_count": 4,
     "metadata": {},
     "output_type": "execute_result"
    }
   ],
   "source": [
    "function GHK_Sim(R::Int64)\n",
    "    # This function is a non-general GHK simulator for the above probability.\n",
    "    # This function takes only the number of simulations as the argument.\n",
    "    # Random Seed\n",
    "    srand(757537);\n",
    "    # Radnom Draws\n",
    "    # Containers\n",
    "    xi = zeros(d,R);\n",
    "    nxi = zeros(d,R);    \n",
    "    eta = zeros(d,R);\n",
    "    nu = zeros(d,R);\n",
    "    P = zeros(d,R);\n",
    "    x1 = cdf(Normal(),((-1*mu[1]) / G[1,1]))\n",
    "    eta[1,:] = rand(Uniform(x1,1), R)\n",
    "    nu[1,:] = norminvcdf.(eta[1,:])\n",
    "    P[1,:] =  (1 - x1)*ones(1,R)\n",
    "    for r = 1:R\n",
    "        for j = 2:d\n",
    "            xi[j,r] = ((-1)*(mu[j] + (G[j,1:(j-1)]'*nu[1:(j-1),r])) / G[j,j])[1,1]\n",
    "            nxi[j,r] = cdf(Normal(), xi[j,r])[1,1]\n",
    "            eta[j,r] = rand(Uniform(nxi[j,r],1), 1)[1,1]\n",
    "            nu[j,r] = norminvcdf(eta[j,r])\n",
    "            P[j,r] =  1 - cdf(Normal(), xi[j,r])\n",
    "        end\n",
    "    end\n",
    "    # Containter for the product of draws\n",
    "    H = zeros(1,R)\n",
    "        for r in 1:R\n",
    "            H[r] = prod(P[:,r])\n",
    "        end\n",
    "    # Average of the products\n",
    "    I_ghk = (1/R)*sum(H)\n",
    "end"
   ]
  },
  {
   "cell_type": "code",
   "execution_count": 5,
   "metadata": {
    "collapsed": false
   },
   "outputs": [
    {
     "data": {
      "text/plain": [
       "crude1 (generic function with 1 method)"
      ]
     },
     "execution_count": 5,
     "metadata": {},
     "output_type": "execute_result"
    }
   ],
   "source": [
    "function crude1(R::Int64)\n",
    "    # This function is a non-general Crude Freq simulator for the above probability.\n",
    "    # This function takes only the number of simulations as the argument.\n",
    "    # Random Seed\n",
    "    srand(757537);\n",
    "    # Draw Uniform Variables\n",
    "    u = rand(d, R)\n",
    "    # Get Standard Normal Draws from Uniform, note vectorization\n",
    "    eta = norminvcdf.(u)\n",
    "    # Get the Values Greater than the Lower Bound\n",
    "    LB = (-1)*inv(G)*mu' * ones(1,R)\n",
    "    nu = (eta.>=LB)\n",
    "    nu = convert(Array{Int64,2},nu)\n",
    "    # Containter for the product of draws\n",
    "    H = zeros(1,R)\n",
    "    for r in 1:R\n",
    "        H[r] = prod(nu[:,r])\n",
    "    end\n",
    "    # Average of the products\n",
    "    I_cf = (1/R)*sum(H)\n",
    "end"
   ]
  },
  {
   "cell_type": "code",
   "execution_count": 6,
   "metadata": {
    "collapsed": false
   },
   "outputs": [
    {
     "data": {
      "text/plain": [
       "crudeAVS (generic function with 1 method)"
      ]
     },
     "execution_count": 6,
     "metadata": {},
     "output_type": "execute_result"
    }
   ],
   "source": [
    "function crudeAVS(R::Int64)\n",
    "    # This function is a non-general Crude Freq Antivariate simulator for the above probability.\n",
    "    # This function takes only the number of simulations as the argument.    \n",
    "    # Random Seed\n",
    "    srand(757537);\n",
    "    # Draw Normal(0,1) Variables, note the negative correlated variables, neg\n",
    "    eta = rand(d, R)\n",
    "    neg = 1 - eta\n",
    "    # Get Standard Normal Draws from Uniform, note vectorization\n",
    "    eta = norminvcdf.(eta)\n",
    "    neg = norminvcdf.(neg)    \n",
    "    # Get the Values Greater than the Lower Bound\n",
    "    LB = (-1)*inv(G)*mu' * ones(1,R)\n",
    "    nu1 = (eta.>=LB)\n",
    "    nu1 = convert(Array{Int64,2},nu1)\n",
    "    nu2 = (neg.>=LB)\n",
    "    nu2 = convert(Array{Int64,2},nu2)    \n",
    "    # Containter for the product of draws\n",
    "    H1 = zeros(1,R)\n",
    "    for r in 1:R\n",
    "        H1[r] = prod(nu1[:,r])\n",
    "    end\n",
    "    H2 = zeros(1,R)\n",
    "    for r in 1:R\n",
    "        H2[r] = prod(nu2[:,r])\n",
    "    end    \n",
    "    # Average of the products\n",
    "    I_cfavs = 0.5*((1/R)*sum(H1) + (1/R)*sum(H2))\n",
    "end"
   ]
  },
  {
   "cell_type": "code",
   "execution_count": 7,
   "metadata": {
    "collapsed": false
   },
   "outputs": [
    {
     "name": "stdout",
     "output_type": "stream",
     "text": [
      "GHK= 0.0892, CrdFrq =0.04, CrdAVS = 0.02 for 25\n",
      "GHK= 0.0842, CrdFrq =0.04, CrdAVS = 0.025 for 100\n",
      "GHK= 0.0834, CrdFrq =0.042, CrdAVS = 0.035 for 500\n",
      "GHK= 0.0831, CrdFrq =0.045, CrdAVS = 0.0405 for 1000\n",
      "GHK= 0.0834, CrdFrq =0.0445, CrdAVS = 0.041 for 2000\n"
     ]
    }
   ],
   "source": [
    "# This runs the three simulator against each other for various simulations.\n",
    "for n in [25, 100,500,1000,2000]\n",
    "    ghk = round(GHK_Sim(n),4)\n",
    "    cf1 = round(crude1(n),4)\n",
    "    cfavs = round(crudeAVS(n),4)\n",
    "    println(\"GHK= $ghk, CrdFrq =$cf1, CrdAVS = $cfavs for $n\")\n",
    "end"
   ]
  },
  {
   "cell_type": "markdown",
   "metadata": {
    "collapsed": false
   },
   "source": [
    "This section assumes we do not know the first two values of $\\mu$, $(\\mu_1,\\mu_2)$, but still know $(\\mu_3, \\mu_4, \\mu_5)$ and $\\Omega$.\n",
    "\n",
    "We want to use the GHK simulator to search for the Simulated MLE for the parameters, $\\theta := (\\mu_1,\\mu_2)$, assuming we only observe $D_i = \\mathcal{1}(Y_i \\ge 0)$.\n",
    "\n",
    "Like before, we note that $Y_i = \\mu + \\Gamma^{\\prime}X_i$, for $X\\sim \\mathcal{N}(0,\\mathcal{I}_d)$.\n",
    "Thus, $D_i = 1 \\iff X_i \\ge -\\Gamma^{-1}\\mu$.\n",
    "\n",
    "Therefore, we can get $\\mathcal{l}_i(\\theta) = D_i \\ln[\\Phi(X_i + \\Gamma^{-1}\\mu;\\ \\theta)] + (1 - D_i) \\ln[1 - \\Phi(X_i + \\Gamma^{-1}\\mu;\\ \\theta)]$."
   ]
  },
  {
   "cell_type": "code",
   "execution_count": 8,
   "metadata": {
    "collapsed": false
   },
   "outputs": [
    {
     "name": "stdout",
     "output_type": "stream",
     "text": [
      "The number of Positive Observations are 82.0 out of 1000 and gives an empirical probability of 0.082"
     ]
    }
   ],
   "source": [
    "# Set the observations of the sample and the simulations\n",
    "N = 1000;\n",
    "R = 1000;\n",
    "# Draw random variable for generating Y\n",
    "# Note we are creating the Y variable in the same way we might estimate it!\n",
    "srand(757537)\n",
    "eta = rand(Normal(), d, N);\n",
    "Y = zeros(d,N);\n",
    "for i in 1:N\n",
    "    Y[:,i] = mu' + G*eta[:,i]\n",
    "end\n",
    "# Create the binary D variable we observe\n",
    "temp = (Y.>=0);\n",
    "temp = convert(Array{Float64,2},temp);\n",
    "D = zeros(1,N);\n",
    "for i in 1:N\n",
    "    D[i] = prod(temp[:,i])\n",
    "end\n",
    "print(\"The number of Positive Observations are $(sum(D)) out of $N and gives an empirical probability of $(sum(D)/N)\")"
   ]
  },
  {
   "cell_type": "code",
   "execution_count": 9,
   "metadata": {
    "collapsed": false
   },
   "outputs": [
    {
     "data": {
      "text/plain": [
       "GHK_MUer (generic function with 1 method)"
      ]
     },
     "execution_count": 9,
     "metadata": {},
     "output_type": "execute_result"
    }
   ],
   "source": [
    "function GHK_MUer(mu::Vector)\n",
    "    # This function is a non-general GHK simulator for the above probability.\n",
    "    # This function takes only the number of simulations as the argument.\n",
    "    # Random Seed\n",
    "    srand(757537);\n",
    "    # Radnom Draws\n",
    "    # Containers\n",
    "    xi = zeros(d,R);\n",
    "    nxi = zeros(d,R);    \n",
    "    eta = zeros(d,R);\n",
    "    nu = zeros(d,R);\n",
    "    P = zeros(d,R);\n",
    "    x1 = cdf(Normal(),((-1*mu[1]) / G[1,1]))\n",
    "    eta[1,:] = rand(Uniform(x1,1), R)\n",
    "    nu[1,:] = norminvcdf.(eta[1,:])\n",
    "    P[1,:] =  (1 - x1)*ones(1,R)\n",
    "    for r = 1:R\n",
    "        for j = 2:d\n",
    "            xi[j,r] = ((-1)*(mu[j] + (G[j,1:(j-1)]'*nu[1:(j-1),r])) / G[j,j])[1,1]\n",
    "            nxi[j,r] = cdf(Normal(), xi[j,r])[1,1]\n",
    "            eta[j,r] = rand(Uniform(nxi[j,r],1), 1)[1,1]\n",
    "            nu[j,r] = norminvcdf(eta[j,r])\n",
    "            P[j,r] =  1 - cdf(Normal(), xi[j,r])\n",
    "        end\n",
    "    end\n",
    "    # Containter for the product of draws\n",
    "    H = zeros(1,R)\n",
    "        for r in 1:R\n",
    "            H[r] = prod(P[:,r])\n",
    "        end\n",
    "    # Average of the products\n",
    "    I_ghk = (1/R)*sum(H)\n",
    "end"
   ]
  },
  {
   "cell_type": "code",
   "execution_count": 10,
   "metadata": {
    "collapsed": false
   },
   "outputs": [
    {
     "data": {
      "text/plain": [
       "loglike_MU (generic function with 1 method)"
      ]
     },
     "execution_count": 10,
     "metadata": {},
     "output_type": "execute_result"
    }
   ],
   "source": [
    "function loglike_MU(TH)\n",
    "    # This function creates the loglikelihood for the simulated MLE \n",
    "    # Preallocate\n",
    "    simD = ones(N)\n",
    "    lnsimD = Array(Float64,N,1)\n",
    "    mlnsimD = Array(Float64,N,1)\n",
    "    lnL = Array(Float64,N,1)\n",
    "    # Math\n",
    "    mu0 = vec([TH mu[2:d]'])\n",
    "    simD = simD * GHK_MUer(mu0)\n",
    "    lnsimD = log(simD)\n",
    "    mlnsimD = log(1-simD)\n",
    "    lnL = ((-1)*(1/N)*sum(D.*lnsimD + (1-D).*mlnsimD))\n",
    "    return(lnL[1,1])\n",
    "end"
   ]
  },
  {
   "cell_type": "code",
   "execution_count": 11,
   "metadata": {
    "collapsed": false
   },
   "outputs": [
    {
     "data": {
      "text/plain": [
       "Results of Optimization Algorithm\n",
       " * Algorithm: Brent's Method\n",
       " * Search Interval: [-0.750000, 0.750000]\n",
       " * Minimizer: 4.555521e-01\n",
       " * Minimum: 2.836271e+02\n",
       " * Iterations: 23\n",
       " * Convergence: max(|x - x_upper|, |x - x_lower|) <= 2*(1.5e-08*|x|+2.2e-16): true\n",
       " * Objective Function Calls: 24"
      ]
     },
     "execution_count": 11,
     "metadata": {},
     "output_type": "execute_result"
    }
   ],
   "source": [
    "# This used the NM optimization routine to search for the \\theta that minimizes(-lnL)\n",
    "# Note I am stacking the deck by giving the initial values the true sign.\n",
    "res = optimize(loglike_MU, -0.75, 0.75)"
   ]
  },
  {
   "cell_type": "code",
   "execution_count": 12,
   "metadata": {
    "collapsed": false
   },
   "outputs": [
    {
     "data": {
      "text/plain": [
       "0.456"
      ]
     },
     "execution_count": 12,
     "metadata": {},
     "output_type": "execute_result"
    }
   ],
   "source": [
    "round(Optim.minimizer(res),3)"
   ]
  },
  {
   "cell_type": "code",
   "execution_count": null,
   "metadata": {
    "collapsed": true
   },
   "outputs": [],
   "source": []
  }
 ],
 "metadata": {
  "anaconda-cloud": {},
  "kernelspec": {
   "display_name": "Julia 0.5.0",
   "language": "julia",
   "name": "julia-0.5"
  },
  "language_info": {
   "file_extension": ".jl",
   "mimetype": "application/julia",
   "name": "julia",
   "version": "0.5.0"
  }
 },
 "nbformat": 4,
 "nbformat_minor": 1
}
